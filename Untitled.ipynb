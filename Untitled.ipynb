{
 "cells": [
  {
   "cell_type": "markdown",
   "metadata": {},
   "source": [
    "https://ytliu0.github.io/starCharts/docs/star_charts.pdf\n",
    "\n",
    "https://arxiv.org/pdf/1102.3825.pdf\n",
    "\n",
    "https://csserver.evansville.edu/~hwang/s15-courses/cs210/prog1.pdf\n",
    "\n",
    "https://www.researchgate.net/publication/348004312_Sunrise_SunsetMoonrise_Moonset_MATLAB_code"
   ]
  },
  {
   "cell_type": "code",
   "execution_count": 10,
   "metadata": {},
   "outputs": [],
   "source": [
    "import numpy as np\n",
    "PI = np.pi"
   ]
  },
  {
   "cell_type": "code",
   "execution_count": 136,
   "metadata": {},
   "outputs": [],
   "source": [
    "# parameters\n",
    "day_of_year = 180\n",
    "latitude = 40.75\n",
    "longitude = -74\n",
    "timezone = -5"
   ]
  },
  {
   "cell_type": "code",
   "execution_count": 137,
   "metadata": {},
   "outputs": [
    {
     "data": {
      "text/plain": [
       "3.081342931466153"
      ]
     },
     "execution_count": 137,
     "metadata": {},
     "output_type": "execute_result"
    }
   ],
   "source": [
    "gamma = 2*PI / 365 * (day_of_year - 1) # fractional year\n",
    "gamma"
   ]
  },
  {
   "cell_type": "code",
   "execution_count": 138,
   "metadata": {},
   "outputs": [],
   "source": [
    "def equation_of_time(gamma):\n",
    "    c0 = 229.18\n",
    "    coefs = [\n",
    "        0.000075,\n",
    "        0.001868,\n",
    "        -0.032077,\n",
    "        -0.014615,\n",
    "        -0.040849\n",
    "    ]\n",
    "    values = [\n",
    "        1,\n",
    "        np.cos(gamma),\n",
    "        np.sin(gamma),\n",
    "        np.cos(2*gamma),\n",
    "        np.sin(2*gamma)\n",
    "    ]\n",
    "    return c0 * np.dot(coefs, values)\n",
    "                 \n",
    "def solar_declination_angle(gamma):\n",
    "    coefs = [\n",
    "        0.006918,\n",
    "        -0.399912,\n",
    "        0.070257,\n",
    "        -0.006758,\n",
    "        0.000907,\n",
    "        -0.002697,\n",
    "        0.00148     \n",
    "    ]\n",
    "    values = [\n",
    "        1,\n",
    "        np.cos(gamma),\n",
    "        np.sin(gamma),\n",
    "        np.cos(2*gamma),\n",
    "        np.sin(2*gamma),\n",
    "        np.cos(3*gamma),\n",
    "        np.sin(3*gamma)\n",
    "    ]\n",
    "    return np.dot(coefs, values)\n",
    "\n",
    "#def hour_angle(latitude, declination, zenith=108*PI/180):\n",
    "def hour_angle(latitude, declination, zenith=90.833*PI/180):\n",
    "    term1 = np.cos(zenith) / (np.cos(latitude * PI/180) * np.cos(declination))\n",
    "    term2 = np.tan(latitude * PI/180) * np.tan(declination)\n",
    "    return (180 / PI) * np.arccos(term1 - term2)"
   ]
  },
  {
   "cell_type": "code",
   "execution_count": 139,
   "metadata": {},
   "outputs": [],
   "source": [
    "def minutes_to_time(minutes):\n",
    "    display_hour = int(np.floor(minutes/60))\n",
    "    display_minutes = int(np.floor(minutes - 60*display_hour))\n",
    "    return f'{display_hour:02}:{display_minutes:02}'"
   ]
  },
  {
   "cell_type": "code",
   "execution_count": 140,
   "metadata": {},
   "outputs": [
    {
     "data": {
      "text/plain": [
       "-3.0526125195450495"
      ]
     },
     "execution_count": 140,
     "metadata": {},
     "output_type": "execute_result"
    }
   ],
   "source": [
    "equation_of_time(gamma)"
   ]
  },
  {
   "cell_type": "code",
   "execution_count": 141,
   "metadata": {},
   "outputs": [
    {
     "data": {
      "text/plain": [
       "0.4064358716386866"
      ]
     },
     "execution_count": 141,
     "metadata": {},
     "output_type": "execute_result"
    }
   ],
   "source": [
    "solar_declination_angle(gamma)"
   ]
  },
  {
   "cell_type": "code",
   "execution_count": 142,
   "metadata": {},
   "outputs": [
    {
     "data": {
      "text/plain": [
       "113.06338289405655"
      ]
     },
     "execution_count": 142,
     "metadata": {},
     "output_type": "execute_result"
    }
   ],
   "source": [
    "ha = hour_angle(latitude, solar_declination_angle(gamma), 90.833*PI/180)\n",
    "ha"
   ]
  },
  {
   "cell_type": "code",
   "execution_count": 143,
   "metadata": {},
   "outputs": [
    {
     "data": {
      "text/plain": [
       "274.7990809433189"
      ]
     },
     "execution_count": 143,
     "metadata": {},
     "output_type": "execute_result"
    }
   ],
   "source": [
    "sunrise = 720 + 4*(longitude - ha) - equation_of_time(gamma) - 60 * timezone\n",
    "sunrise"
   ]
  },
  {
   "cell_type": "code",
   "execution_count": 144,
   "metadata": {},
   "outputs": [
    {
     "data": {
      "text/plain": [
       "'04:34'"
      ]
     },
     "execution_count": 144,
     "metadata": {},
     "output_type": "execute_result"
    }
   ],
   "source": [
    "minutes_to_time(sunrise)"
   ]
  },
  {
   "cell_type": "code",
   "execution_count": 145,
   "metadata": {},
   "outputs": [
    {
     "data": {
      "text/plain": [
       "1179.3061440957713"
      ]
     },
     "execution_count": 145,
     "metadata": {},
     "output_type": "execute_result"
    }
   ],
   "source": [
    "sunset = 720 + 4*(longitude + ha) - equation_of_time(gamma) - 60 * timezone\n",
    "sunset"
   ]
  },
  {
   "cell_type": "code",
   "execution_count": 146,
   "metadata": {},
   "outputs": [
    {
     "data": {
      "text/plain": [
       "'19:39'"
      ]
     },
     "execution_count": 146,
     "metadata": {},
     "output_type": "execute_result"
    }
   ],
   "source": [
    "minutes_to_time(sunset)"
   ]
  },
  {
   "cell_type": "code",
   "execution_count": null,
   "metadata": {},
   "outputs": [],
   "source": []
  },
  {
   "cell_type": "code",
   "execution_count": null,
   "metadata": {},
   "outputs": [],
   "source": []
  },
  {
   "cell_type": "code",
   "execution_count": 157,
   "metadata": {},
   "outputs": [
    {
     "data": {
      "text/plain": [
       "144.5816266691224"
      ]
     },
     "execution_count": 157,
     "metadata": {},
     "output_type": "execute_result"
    }
   ],
   "source": [
    "ha = hour_angle(latitude, solar_declination_angle(gamma), 108*PI/180)\n",
    "ha"
   ]
  },
  {
   "cell_type": "code",
   "execution_count": 158,
   "metadata": {},
   "outputs": [
    {
     "data": {
      "text/plain": [
       "148.7261058430555"
      ]
     },
     "execution_count": 158,
     "metadata": {},
     "output_type": "execute_result"
    }
   ],
   "source": [
    "end_of_night = 720 + 4*(longitude - ha) - equation_of_time(gamma) - 60 * timezone\n",
    "end_of_night"
   ]
  },
  {
   "cell_type": "code",
   "execution_count": 159,
   "metadata": {},
   "outputs": [
    {
     "data": {
      "text/plain": [
       "'02:28'"
      ]
     },
     "execution_count": 159,
     "metadata": {},
     "output_type": "execute_result"
    }
   ],
   "source": [
    "minutes_to_time(end_of_night)"
   ]
  },
  {
   "cell_type": "code",
   "execution_count": 160,
   "metadata": {},
   "outputs": [
    {
     "data": {
      "text/plain": [
       "1305.3791191960345"
      ]
     },
     "execution_count": 160,
     "metadata": {},
     "output_type": "execute_result"
    }
   ],
   "source": [
    "start_of_night = 720 + 4*(longitude + ha) - equation_of_time(gamma) - 60 * timezone\n",
    "start_of_night"
   ]
  },
  {
   "cell_type": "code",
   "execution_count": 161,
   "metadata": {},
   "outputs": [
    {
     "data": {
      "text/plain": [
       "'21:45'"
      ]
     },
     "execution_count": 161,
     "metadata": {},
     "output_type": "execute_result"
    }
   ],
   "source": [
    "minutes_to_time(start_of_night)"
   ]
  },
  {
   "cell_type": "code",
   "execution_count": null,
   "metadata": {},
   "outputs": [],
   "source": []
  },
  {
   "cell_type": "code",
   "execution_count": null,
   "metadata": {},
   "outputs": [],
   "source": []
  },
  {
   "cell_type": "code",
   "execution_count": 173,
   "metadata": {},
   "outputs": [],
   "source": [
    "#https://www.researchgate.net/publication/348004312_Sunrise_SunsetMoonrise_Moonset_MATLAB_code\n",
    "\n",
    "def frac(x):\n",
    "    return x - int(x)\n",
    "\n",
    "def moon(T):\n",
    "    '''\n",
    "    Computes the Moon's Right-Ascension and Declination (both in radians) from the Time in Julian centuries since J2000 \n",
    "    using a low-precision analytical series\n",
    "    '''\n",
    "    \n",
    "    arc_second = 206264.8062\n",
    "    \n",
    "    L_0 = frac(0.606433 + 1336.855225*T) # mean longitude\n",
    "    l = 2*PI*frac(0.374897 + 1325.552410*T) # Moon's mean anomaly\n",
    "    ls = 2*PI*frac(0.993133 + 99.997361*T) # Sun's mean anomaly\n",
    "    D = 2*PI*frac(0.827361 + 1236.853086*T) # diff. long. Moon-Sun\n",
    "    F = 2*PI*frac(0.259086 + 1342.227825*T) # Dist. from ascending node\n",
    "    \n",
    "    # perturbations in longitude and latitude\n",
    "    dL = 22640*np.sin(l) - 4586*np.sin(l-2*D) + 2370*np.sin(2*D) + 769*np.sin(2*l) - 668*np.sin(ls) - 412*np.sin(2*F) \\\n",
    "         - 212*np.sin(2*l-2*D) - 206*np.sin(l+ls-2*D) + 192*np.sin(l+2*D) - 165*np.sin(ls-2*D) - 125*np.sin(D) \\\n",
    "         - 110*np.sin(l+ls) + 148*np.sin(l-ls) - 55*np.sin(2*F-2*D)\n",
    "    S = F + (dL + 412*np.sin(2*F) + 541*np.sin(ls)) / arc_second\n",
    "    h = F - 2*D\n",
    "    N = -526*np.sin(h) + 44*np.sin(l+h) - 31*np.sin(-l+h) - 23*np.sin(ls+h)+ 11*np.sin(-ls+h) - 25*np.sin(-2*l+F) \\\n",
    "        + 21*np.sin(-l+F)\n",
    "    \n",
    "    # Ecliptic longitude and latitude\n",
    "    l_moon = 2*PI + frac(L_0 + dL/1296000)\n",
    "    b_moon = (18520*np.sin(S) + N) / arc_second\n",
    "    \n",
    "    # Equatorial coordinates\n",
    "    CB = np.cos(b_moon)\n",
    "    x = CB * np.cos(l_moon)\n",
    "    V = CB * np.sin(l_moon)\n",
    "    W = np.sin(b_moon)\n",
    "    #y = .91748 * V - .39778 * W\n",
    "    y = np.dot([0.91748, -0.39778], [V, W])\n",
    "    z = np.dot([0.39778, 0.91748], [V, W])\n",
    "    rho = np.sqrt(1 - z**2)\n",
    "    dec = (180/PI) * np.arctan(z/rho)\n",
    "    ra = (24/PI) * np.arctan(y / (x + rho))\n",
    "    if ra < 0: ra += 24\n",
    "    return ra, dec"
   ]
  },
  {
   "cell_type": "code",
   "execution_count": 176,
   "metadata": {},
   "outputs": [
    {
     "data": {
      "text/plain": [
       "(23.76816243028991, -1.8883727304674387)"
      ]
     },
     "execution_count": 176,
     "metadata": {},
     "output_type": "execute_result"
    }
   ],
   "source": [
    "moon(-510.0028 / 36525)"
   ]
  },
  {
   "cell_type": "code",
   "execution_count": null,
   "metadata": {},
   "outputs": [],
   "source": [
    "def ra_dec_to_alt_az(ra, dec, latitude, longitude):\n",
    "    LST = 100.46 + 0.985647*dec + longitude"
   ]
  },
  {
   "cell_type": "code",
   "execution_count": 170,
   "metadata": {},
   "outputs": [],
   "source": [
    "import pandas as pd"
   ]
  },
  {
   "cell_type": "code",
   "execution_count": 177,
   "metadata": {},
   "outputs": [
    {
     "data": {
      "text/plain": [
       "0        18.236607\n",
       "1        18.604318\n",
       "2        18.756086\n",
       "3        18.712037\n",
       "4        18.496932\n",
       "           ...    \n",
       "36520    10.453944\n",
       "36521    10.880724\n",
       "36522    11.071642\n",
       "36523    11.049586\n",
       "36524    10.855850\n",
       "Length: 36525, dtype: float64"
      ]
     },
     "execution_count": 177,
     "metadata": {},
     "output_type": "execute_result"
    }
   ],
   "source": [
    "pd.Series([moon(x)[1] for x in np.arange(0, 1, 1/36525)])"
   ]
  },
  {
   "cell_type": "code",
   "execution_count": null,
   "metadata": {},
   "outputs": [],
   "source": [
    "hour_angle(latitude, solar_declination_angle(gamma), 108*PI/180)"
   ]
  },
  {
   "cell_type": "code",
   "execution_count": null,
   "metadata": {},
   "outputs": [],
   "source": []
  },
  {
   "cell_type": "code",
   "execution_count": null,
   "metadata": {},
   "outputs": [],
   "source": []
  },
  {
   "cell_type": "code",
   "execution_count": null,
   "metadata": {},
   "outputs": [],
   "source": []
  },
  {
   "cell_type": "code",
   "execution_count": null,
   "metadata": {},
   "outputs": [],
   "source": [
    "#eqn 125:\n",
    "def hprime(H, alpha, t_s0):\n",
    "    return ((H + alpha - t_s0) % 24) / 1.00273781191135448"
   ]
  },
  {
   "cell_type": "code",
   "execution_count": null,
   "metadata": {},
   "outputs": [],
   "source": [
    "def moonrise(T):\n",
    "    # calculate the hour-angle and altitude of the moon at every hour\n",
    "    \n",
    "    # divide the day into 12 2-hour intervals\n",
    "    \n",
    "        # for each interval, find the quadratic interpolation of HA and Alt.\n",
    "        \n",
    "        # find the root of the quadratic interpolation\n",
    "    "
   ]
  }
 ],
 "metadata": {
  "kernelspec": {
   "display_name": "Python 3",
   "language": "python",
   "name": "python3"
  },
  "language_info": {
   "codemirror_mode": {
    "name": "ipython",
    "version": 3
   },
   "file_extension": ".py",
   "mimetype": "text/x-python",
   "name": "python",
   "nbconvert_exporter": "python",
   "pygments_lexer": "ipython3",
   "version": "3.7.6"
  }
 },
 "nbformat": 4,
 "nbformat_minor": 4
}
