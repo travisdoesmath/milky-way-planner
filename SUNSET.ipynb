{
 "cells": [
  {
   "cell_type": "code",
   "execution_count": 1,
   "metadata": {},
   "outputs": [],
   "source": [
    "# Recreating the SUNSET program from Montenbruck and Pfleger"
   ]
  },
  {
   "cell_type": "code",
   "execution_count": 3,
   "metadata": {},
   "outputs": [],
   "source": [
    "import numpy as np"
   ]
  },
  {
   "cell_type": "code",
   "execution_count": 16,
   "metadata": {},
   "outputs": [],
   "source": [
    "def rad(d):\n",
    "    return d * np.pi / 180\n",
    "\n",
    "def deg(a):\n",
    "    return a * 180 / np.pi\n",
    "\n",
    "def frac(x):\n",
    "    return x - int(x)\n",
    "\n",
    "\n",
    "\n",
    "pi = np.pi\n",
    "pi2 = 2*pi\n",
    "rad = rad(1)\n",
    "deg = deg(1)\n",
    "arc_second = 3600*180/pi\n",
    "au = 149597870 # km\n",
    "c_light = 173.14 # AU/d"
   ]
  },
  {
   "cell_type": "code",
   "execution_count": 17,
   "metadata": {},
   "outputs": [],
   "source": [
    "\n",
    "def sin_alt(event, julian_date, hour, longitude, cphi, sphi):\n",
    "    mjd = julian_date + hour/24\n",
    "    t = (mjd - 51544.5)/36525\n",
    "    if event == \"Moon\":\n",
    "        ra, dec = mini_moon(t)\n",
    "    else:\n",
    "        ra, dec = minisun(t)\n",
    "        tau = GMST(mjd) + longitude - ra\n",
    "    return sphi*np.sin(dec) + cphi*np.cos(dec)*np.cos(tau)"
   ]
  },
  {
   "cell_type": "code",
   "execution_count": 18,
   "metadata": {},
   "outputs": [],
   "source": [
    "# def mini_moon(t):\n",
    "#     eps = 23.43929111 * rad(1)\n",
    "    \n",
    "#     L_0 = frac(0.606433 + 1336.855225*T) # mean longitude\n",
    "#     l = 2*PI*frac(0.374897 + 1325.552410*T) # Moon's mean anomaly\n",
    "#     ls = 2*PI*frac(0.993133 + 99.997361*T) # Sun's mean anomaly\n",
    "#     D = 2*PI*frac(0.827361 + 1236.853086*T) # diff. long. Moon-Sun\n",
    "#     F = 2*PI*frac(0.259086 + 1342.227825*T) # Dist. from ascending node\n",
    "    \n",
    "#     # perturbations in longitude and latitude\n",
    "#     dL = 22640*np.sin(l) - 4586*np.sin(l-2*D) + 2370*np.sin(2*D) + 769*np.sin(2*l) - 668*np.sin(ls) - 412*np.sin(2*F) \\\n",
    "#          - 212*np.sin(2*l-2*D) - 206*np.sin(l+ls-2*D) + 192*np.sin(l+2*D) - 165*np.sin(ls-2*D) - 125*np.sin(D) \\\n",
    "#          - 110*np.sin(l+ls) + 148*np.sin(l-ls) - 55*np.sin(2*F-2*D)\n",
    "#     S = F + (dL + 412*np.sin(2*F) + 541*np.sin(ls)) / arc_second\n",
    "#     h = F - 2*D\n",
    "#     N = -526*np.sin(h) + 44*np.sin(l+h) - 31*np.sin(-l+h) - 23*np.sin(ls+h)+ 11*np.sin(-ls+h) - 25*np.sin(-2*l+F) \\\n",
    "#         + 21*np.sin(-l+F)\n",
    "    \n",
    "#     # Ecliptic longitude and latitude\n",
    "#     l_moon = 2*PI + frac(L_0 + dL/1296000)\n",
    "#     b_moon = (18520*np.sin(S) + N) / arc_second\n",
    "    \n",
    "#     #e_moon = R_x(-eps) * Vec3D(Polar(l_moon, b_moon))\n",
    "#     #RA = e_moon[phi]\n",
    "#     #Dec = e_moon[theta]\n",
    "    \n",
    "#     # R_x(φ) = [ 1    0       0    ]\n",
    "#     #          [ 0 +cos(φ) +sin(φ) ]\n",
    "#     #          [ 0 -sin(φ) +cos(φ) ]"
   ]
  },
  {
   "cell_type": "code",
   "execution_count": 19,
   "metadata": {},
   "outputs": [
    {
     "ename": "SyntaxError",
     "evalue": "unexpected EOF while parsing (<ipython-input-19-9d348af44fa9>, line 2)",
     "output_type": "error",
     "traceback": [
      "\u001b[1;36m  File \u001b[1;32m\"<ipython-input-19-9d348af44fa9>\"\u001b[1;36m, line \u001b[1;32m2\u001b[0m\n\u001b[1;33m    \u001b[0m\n\u001b[1;37m    ^\u001b[0m\n\u001b[1;31mSyntaxError\u001b[0m\u001b[1;31m:\u001b[0m unexpected EOF while parsing\n"
     ]
    }
   ],
   "source": [
    "def mini_sun(t):\n",
    "    eps = 23.43929111*rad\n",
    "    M = 2*pi * frac(0.993133 + 99.997361*t)\n",
    "    L = 2*pi * frac(0.7859453 + M/(2*pi) + (6893*np.sin(M) + 72*np.sin(2*M) + 6191.2*t) / 1296000)\n",
    "    \n",
    "    e_sun = "
   ]
  },
  {
   "cell_type": "code",
   "execution_count": 24,
   "metadata": {},
   "outputs": [],
   "source": [
    "def mini_moon(t):\n",
    "    '''\n",
    "    Computes the Moon's Right-Ascension and Declination (both in radians) from the Time in Julian centuries since J2000 \n",
    "    using a low-precision analytical series\n",
    "    '''\n",
    "    \n",
    "    arc_second = 206264.8062\n",
    "    \n",
    "    L_0 = frac(0.606433 + 1336.855225*t) # mean longitude\n",
    "    l = 2*pi*frac(0.374897 + 1325.552410*t) # Moon's mean anomaly\n",
    "    ls = 2*pi*frac(0.993133 + 99.997361*t) # Sun's mean anomaly\n",
    "    D = 2*pi*frac(0.827361 + 1236.853086*t) # diff. long. Moon-Sun\n",
    "    F = 2*pi*frac(0.259086 + 1342.227825*t) # Dist. from ascending node\n",
    "    \n",
    "    # perturbations in longitude and latitude\n",
    "    dL = 22640*np.sin(l) - 4586*np.sin(l-2*D) + 2370*np.sin(2*D) + 769*np.sin(2*l) - 668*np.sin(ls) - 412*np.sin(2*F) \\\n",
    "         - 212*np.sin(2*l-2*D) - 206*np.sin(l+ls-2*D) + 192*np.sin(l+2*D) - 165*np.sin(ls-2*D) - 125*np.sin(D) \\\n",
    "         - 110*np.sin(l+ls) + 148*np.sin(l-ls) - 55*np.sin(2*F-2*D)\n",
    "    S = F + (dL + 412*np.sin(2*F) + 541*np.sin(ls)) / arc_second\n",
    "    h = F - 2*D\n",
    "    N = -526*np.sin(h) + 44*np.sin(l+h) - 31*np.sin(-l+h) - 23*np.sin(ls+h)+ 11*np.sin(-ls+h) - 25*np.sin(-2*l+F) \\\n",
    "        + 21*np.sin(-l+F)\n",
    "    \n",
    "    # Ecliptic longitude and latitude\n",
    "    l_moon = 2*pi + frac(L_0 + dL/1296000)\n",
    "    b_moon = (18520*np.sin(S) + N) / arc_second\n",
    "    \n",
    "    # Equatorial coordinates\n",
    "    CB = np.cos(b_moon)\n",
    "    x = CB * np.cos(l_moon)\n",
    "    v = CB * np.sin(l_moon)\n",
    "    w = np.sin(b_moon)\n",
    "    y = np.dot([0.91748, -0.39778], [v, w])\n",
    "    z = np.dot([0.39778, 0.91748], [v, w])\n",
    "    rho = np.sqrt(1 - z**2)\n",
    "    dec = deg * np.arctan(z/rho)\n",
    "    ra = (24/pi) * np.arctan(y / (x + rho))\n",
    "    if ra < 0: ra += 24\n",
    "    return ra, dec"
   ]
  },
  {
   "cell_type": "code",
   "execution_count": 25,
   "metadata": {},
   "outputs": [
    {
     "data": {
      "text/plain": [
       "(2.0956870292997443, 18.23660699640844)"
      ]
     },
     "execution_count": 25,
     "metadata": {},
     "output_type": "execute_result"
    }
   ],
   "source": [
    "mini_moon(0)"
   ]
  },
  {
   "cell_type": "code",
   "execution_count": null,
   "metadata": {},
   "outputs": [],
   "source": [
    "def find_events(event, mjd0h, longitude, latitude):\n",
    "    sin_h0 = {\n",
    "        'moonrise':np.sin(rad(8/60)),\n",
    "        'sunrise': np.sin(rad(-50/60)),\n",
    "        'civil twilight': np.sin(rad(-6)),\n",
    "        'nautical twilight': np.sin(rad(-12)),\n",
    "        'astronomical twilight': np.sin(rad(-18)),\n",
    "    }\n",
    "    \n",
    "    Cphi = np.cos(latitude)\n",
    "    Sphi = np.sin(latitude)\n",
    "    \n",
    "    # Initialize for search\n",
    "    y_minus = sin_alt(event, mjd0h, 0, longitude, Cphi, Sphi) - sin_h0[event]\n",
    "    above = (y_minus>0.0)\n",
    "    rises = false\n",
    "    sets = false\n",
    "    for hour in range(1,24,2):\n",
    "        y_0 = sin_alt(event, mjd0h, hour, longitude, Cphi, Sphi) - sin_h0[event]\n",
    "        y_plus = sin_alt(event, mjd0h, hour+1, longitude, Cphi, Sphi) - sin_h0[event]\n",
    "        xe, ye, root1, root2, n_root = quad(y_minus, y_0, y_plus)\n",
    "        if n_root == 1:\n",
    "            if y_minus < 0:\n",
    "                lt_rise = hour + root1\n",
    "                rises = True\n",
    "            else:\n",
    "                lt_set = hour + root1\n",
    "                sets = True\n",
    "        if n_root == 2:\n",
    "            if ye < 0:\n",
    "                lt_rise = hour+root2\n",
    "                lt_set = hour+root1\n",
    "            else:\n",
    "                lt_rise = hour+root1\n",
    "                lt_set = hour+root2\n",
    "            rises = True\n",
    "            sets = True\n",
    "        y_minus = y_plus\n",
    "        \n"
   ]
  }
 ],
 "metadata": {
  "kernelspec": {
   "display_name": "Python 3",
   "language": "python",
   "name": "python3"
  },
  "language_info": {
   "codemirror_mode": {
    "name": "ipython",
    "version": 3
   },
   "file_extension": ".py",
   "mimetype": "text/x-python",
   "name": "python",
   "nbconvert_exporter": "python",
   "pygments_lexer": "ipython3",
   "version": "3.7.6"
  }
 },
 "nbformat": 4,
 "nbformat_minor": 4
}
