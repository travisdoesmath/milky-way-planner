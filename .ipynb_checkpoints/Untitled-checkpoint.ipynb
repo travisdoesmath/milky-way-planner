{
 "cells": [
  {
   "cell_type": "markdown",
   "metadata": {},
   "source": [
    "https://arxiv.org/pdf/1102.3825.pdf\n",
    "\n",
    "https://csserver.evansville.edu/~hwang/s15-courses/cs210/prog1.pdf\n",
    "\n",
    "https://www.researchgate.net/publication/348004312_Sunrise_SunsetMoonrise_Moonset_MATLAB_code"
   ]
  },
  {
   "cell_type": "code",
   "execution_count": 10,
   "metadata": {},
   "outputs": [],
   "source": [
    "import numpy as np\n",
    "PI = np.pi"
   ]
  },
  {
   "cell_type": "code",
   "execution_count": 136,
   "metadata": {},
   "outputs": [],
   "source": [
    "# parameters\n",
    "day_of_year = 180\n",
    "latitude = 40.75\n",
    "longitude = -74\n",
    "timezone = -5"
   ]
  },
  {
   "cell_type": "code",
   "execution_count": 137,
   "metadata": {},
   "outputs": [
    {
     "data": {
      "text/plain": [
       "3.081342931466153"
      ]
     },
     "execution_count": 137,
     "metadata": {},
     "output_type": "execute_result"
    }
   ],
   "source": [
    "gamma = 2*PI / 365 * (day_of_year - 1) # fractional year\n",
    "gamma"
   ]
  },
  {
   "cell_type": "code",
   "execution_count": 138,
   "metadata": {},
   "outputs": [],
   "source": [
    "def equation_of_time(gamma):\n",
    "    c0 = 229.18\n",
    "    coefs = [\n",
    "        0.000075,\n",
    "        0.001868,\n",
    "        -0.032077,\n",
    "        -0.014615,\n",
    "        -0.040849\n",
    "    ]\n",
    "    values = [\n",
    "        1,\n",
    "        np.cos(gamma),\n",
    "        np.sin(gamma),\n",
    "        np.cos(2*gamma),\n",
    "        np.sin(2*gamma)\n",
    "    ]\n",
    "    return c0 * np.dot(coefs, values)\n",
    "                 \n",
    "def solar_declination_angle(gamma):\n",
    "    coefs = [\n",
    "        0.006918,\n",
    "        -0.399912,\n",
    "        0.070257,\n",
    "        -0.006758,\n",
    "        0.000907,\n",
    "        -0.002697,\n",
    "        0.00148     \n",
    "    ]\n",
    "    values = [\n",
    "        1,\n",
    "        np.cos(gamma),\n",
    "        np.sin(gamma),\n",
    "        np.cos(2*gamma),\n",
    "        np.sin(2*gamma),\n",
    "        np.cos(3*gamma),\n",
    "        np.sin(3*gamma)\n",
    "    ]\n",
    "    return np.dot(coefs, values)\n",
    "\n",
    "#def hour_angle(latitude, declination, zenith=108*PI/180):\n",
    "def hour_angle(latitude, declination, zenith=90.833*PI/180):\n",
    "    term1 = np.cos(zenith) / (np.cos(latitude * PI/180) * np.cos(declination))\n",
    "    term2 = np.tan(latitude * PI/180) * np.tan(declination)\n",
    "    return (180 / PI) * np.arccos(term1 - term2)"
   ]
  },
  {
   "cell_type": "code",
   "execution_count": 139,
   "metadata": {},
   "outputs": [],
   "source": [
    "def minutes_to_time(minutes):\n",
    "    display_hour = int(np.floor(minutes/60))\n",
    "    display_minutes = int(np.floor(minutes - 60*display_hour))\n",
    "    return f'{display_hour:02}:{display_minutes:02}'"
   ]
  },
  {
   "cell_type": "code",
   "execution_count": 140,
   "metadata": {},
   "outputs": [
    {
     "data": {
      "text/plain": [
       "-3.0526125195450495"
      ]
     },
     "execution_count": 140,
     "metadata": {},
     "output_type": "execute_result"
    }
   ],
   "source": [
    "equation_of_time(gamma)"
   ]
  },
  {
   "cell_type": "code",
   "execution_count": 141,
   "metadata": {},
   "outputs": [
    {
     "data": {
      "text/plain": [
       "0.4064358716386866"
      ]
     },
     "execution_count": 141,
     "metadata": {},
     "output_type": "execute_result"
    }
   ],
   "source": [
    "solar_declination_angle(gamma)"
   ]
  },
  {
   "cell_type": "code",
   "execution_count": 142,
   "metadata": {},
   "outputs": [
    {
     "data": {
      "text/plain": [
       "113.06338289405655"
      ]
     },
     "execution_count": 142,
     "metadata": {},
     "output_type": "execute_result"
    }
   ],
   "source": [
    "ha = hour_angle(latitude, solar_declination_angle(gamma), 90.833*PI/180)\n",
    "ha"
   ]
  },
  {
   "cell_type": "code",
   "execution_count": 143,
   "metadata": {},
   "outputs": [
    {
     "data": {
      "text/plain": [
       "274.7990809433189"
      ]
     },
     "execution_count": 143,
     "metadata": {},
     "output_type": "execute_result"
    }
   ],
   "source": [
    "sunrise = 720 + 4*(longitude - ha) - equation_of_time(gamma) - 60 * timezone\n",
    "sunrise"
   ]
  },
  {
   "cell_type": "code",
   "execution_count": 144,
   "metadata": {},
   "outputs": [
    {
     "data": {
      "text/plain": [
       "'04:34'"
      ]
     },
     "execution_count": 144,
     "metadata": {},
     "output_type": "execute_result"
    }
   ],
   "source": [
    "minutes_to_time(sunrise)"
   ]
  },
  {
   "cell_type": "code",
   "execution_count": 145,
   "metadata": {},
   "outputs": [
    {
     "data": {
      "text/plain": [
       "1179.3061440957713"
      ]
     },
     "execution_count": 145,
     "metadata": {},
     "output_type": "execute_result"
    }
   ],
   "source": [
    "sunset = 720 + 4*(longitude + ha) - equation_of_time(gamma) - 60 * timezone\n",
    "sunset"
   ]
  },
  {
   "cell_type": "code",
   "execution_count": 146,
   "metadata": {},
   "outputs": [
    {
     "data": {
      "text/plain": [
       "'19:39'"
      ]
     },
     "execution_count": 146,
     "metadata": {},
     "output_type": "execute_result"
    }
   ],
   "source": [
    "minutes_to_time(sunset)"
   ]
  },
  {
   "cell_type": "code",
   "execution_count": null,
   "metadata": {},
   "outputs": [],
   "source": []
  },
  {
   "cell_type": "code",
   "execution_count": null,
   "metadata": {},
   "outputs": [],
   "source": []
  },
  {
   "cell_type": "code",
   "execution_count": 157,
   "metadata": {},
   "outputs": [
    {
     "data": {
      "text/plain": [
       "144.5816266691224"
      ]
     },
     "execution_count": 157,
     "metadata": {},
     "output_type": "execute_result"
    }
   ],
   "source": [
    "ha = hour_angle(latitude, solar_declination_angle(gamma), 108*PI/180)\n",
    "ha"
   ]
  },
  {
   "cell_type": "code",
   "execution_count": 158,
   "metadata": {},
   "outputs": [
    {
     "data": {
      "text/plain": [
       "148.7261058430555"
      ]
     },
     "execution_count": 158,
     "metadata": {},
     "output_type": "execute_result"
    }
   ],
   "source": [
    "end_of_night = 720 + 4*(longitude - ha) - equation_of_time(gamma) - 60 * timezone\n",
    "end_of_night"
   ]
  },
  {
   "cell_type": "code",
   "execution_count": 159,
   "metadata": {},
   "outputs": [
    {
     "data": {
      "text/plain": [
       "'02:28'"
      ]
     },
     "execution_count": 159,
     "metadata": {},
     "output_type": "execute_result"
    }
   ],
   "source": [
    "minutes_to_time(end_of_night)"
   ]
  },
  {
   "cell_type": "code",
   "execution_count": 160,
   "metadata": {},
   "outputs": [
    {
     "data": {
      "text/plain": [
       "1305.3791191960345"
      ]
     },
     "execution_count": 160,
     "metadata": {},
     "output_type": "execute_result"
    }
   ],
   "source": [
    "start_of_night = 720 + 4*(longitude + ha) - equation_of_time(gamma) - 60 * timezone\n",
    "start_of_night"
   ]
  },
  {
   "cell_type": "code",
   "execution_count": 161,
   "metadata": {},
   "outputs": [
    {
     "data": {
      "text/plain": [
       "'21:45'"
      ]
     },
     "execution_count": 161,
     "metadata": {},
     "output_type": "execute_result"
    }
   ],
   "source": [
    "minutes_to_time(start_of_night)"
   ]
  },
  {
   "cell_type": "code",
   "execution_count": null,
   "metadata": {},
   "outputs": [],
   "source": []
  }
 ],
 "metadata": {
  "kernelspec": {
   "display_name": "Python 3",
   "language": "python",
   "name": "python3"
  },
  "language_info": {
   "codemirror_mode": {
    "name": "ipython",
    "version": 3
   },
   "file_extension": ".py",
   "mimetype": "text/x-python",
   "name": "python",
   "nbconvert_exporter": "python",
   "pygments_lexer": "ipython3",
   "version": "3.7.6"
  }
 },
 "nbformat": 4,
 "nbformat_minor": 4
}
